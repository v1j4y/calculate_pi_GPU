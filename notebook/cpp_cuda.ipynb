{
  "nbformat": 4,
  "nbformat_minor": 0,
  "metadata": {
    "colab": {
      "name": "cpp_cuda.ipynb",
      "provenance": [],
      "collapsed_sections": [
        "SHRB4xawPRB0",
        "l_KKT96rGOAv",
        "iYbs4cp_HHoW",
        "N69BNi-DJ7Wk",
        "K4EXY8lRMLus",
        "0uqG0k7iMjdG",
        "uelIEDMmVhgO",
        "WWECGiC8Nb7c",
        "JaQPBR49YjtU"
      ],
      "toc_visible": true
    },
    "kernelspec": {
      "name": "python3",
      "display_name": "Python 3"
    },
    "accelerator": "GPU"
  },
  "cells": [
    {
      "cell_type": "markdown",
      "metadata": {
        "id": "SHRB4xawPRB0",
        "colab_type": "text"
      },
      "source": [
        "# Initialize"
      ]
    },
    {
      "cell_type": "code",
      "metadata": {
        "id": "gWhc5x-8Ci4s",
        "colab_type": "code",
        "colab": {}
      },
      "source": [
        "!pip install git+git://github.com/andreinechaev/nvcc4jupyter.git"
      ],
      "execution_count": null,
      "outputs": []
    },
    {
      "cell_type": "code",
      "metadata": {
        "id": "8WQaUclFCt5N",
        "colab_type": "code",
        "colab": {}
      },
      "source": [
        "%load_ext nvcc_plugin"
      ],
      "execution_count": null,
      "outputs": []
    },
    {
      "cell_type": "code",
      "metadata": {
        "id": "e2BJMpiLCvM5",
        "colab_type": "code",
        "colab": {}
      },
      "source": [
        "%%cuda --name my_curand.cu \n",
        "/*\n",
        " * This program uses the host CURAND API to generate 100 \n",
        " * pseudorandom floats.\n",
        " */\n",
        "#include <stdio.h>\n",
        "#include <stdlib.h>\n",
        "#include <cuda.h>\n",
        "#include <curand.h>\n",
        "\n",
        "#define CUDA_CALL(x) do { if((x)!=cudaSuccess) { \\\n",
        "    printf(\"Error at %s:%d\\n\",__FILE__,__LINE__);\\\n",
        "    return EXIT_FAILURE;}} while(0)\n",
        "#define CURAND_CALL(x) do { if((x)!=CURAND_STATUS_SUCCESS) { \\\n",
        "    printf(\"Error at %s:%d\\n\",__FILE__,__LINE__);\\\n",
        "    return EXIT_FAILURE;}} while(0)\n",
        "\n",
        "int main(int argc, char *argv[])\n",
        "{\n",
        "    size_t n = 100;\n",
        "    size_t i;\n",
        "    curandGenerator_t gen;\n",
        "    float *devData, *hostData;\n",
        "\n",
        "    /* Allocate n floats on host */\n",
        "    hostData = (float *)calloc(n, sizeof(float));\n",
        "\n",
        "    /* Allocate n floats on device */\n",
        "    CUDA_CALL(cudaMalloc((void **)&devData, n*sizeof(float)));\n",
        "\n",
        "    /* Create pseudo-random number generator */\n",
        "    CURAND_CALL(curandCreateGenerator(&gen, \n",
        "                CURAND_RNG_PSEUDO_DEFAULT));\n",
        "\n",
        "    /* Set seed */\n",
        "    CURAND_CALL(curandSetPseudoRandomGeneratorSeed(gen, \n",
        "                1234ULL));\n",
        "\n",
        "    /* Generate n floats on device */\n",
        "    CURAND_CALL(curandGenerateUniform(gen, devData, n));\n",
        "\n",
        "    /* Copy device memory to host */\n",
        "    CUDA_CALL(cudaMemcpy(hostData, devData, n * sizeof(float),\n",
        "        cudaMemcpyDeviceToHost));\n",
        "\n",
        "    /* Show result */\n",
        "    for(i = 0; i < n; i++) {\n",
        "        printf(\"%1.4f \", hostData[i]);\n",
        "    }\n",
        "    printf(\"\\n\");\n",
        "\n",
        "    /* Cleanup */\n",
        "    CURAND_CALL(curandDestroyGenerator(gen));\n",
        "    CUDA_CALL(cudaFree(devData));\n",
        "    free(hostData);    \n",
        "    return EXIT_SUCCESS;\n",
        "}"
      ],
      "execution_count": null,
      "outputs": []
    },
    {
      "cell_type": "code",
      "metadata": {
        "id": "zOdnDWpQGwNn",
        "colab_type": "code",
        "colab": {}
      },
      "source": [
        "!nvcc -o /content/src/my_curand /content/src/my_curand.cu -lcurand"
      ],
      "execution_count": null,
      "outputs": []
    },
    {
      "cell_type": "code",
      "metadata": {
        "id": "vuC07lq2Gwq9",
        "colab_type": "code",
        "colab": {}
      },
      "source": [
        "!/content/src/my_curand"
      ],
      "execution_count": null,
      "outputs": []
    },
    {
      "cell_type": "markdown",
      "metadata": {
        "id": "l_KKT96rGOAv",
        "colab_type": "text"
      },
      "source": [
        "# GPU hello world"
      ]
    },
    {
      "cell_type": "code",
      "metadata": {
        "id": "X068UrbYGSyu",
        "colab_type": "code",
        "colab": {}
      },
      "source": [
        "%%cuda --name ex1.cu\n",
        "/*\n",
        " * This program executs a kernel.\n",
        " */\n",
        "#include <stdio.h>\n",
        "#include <stdlib.h>\n",
        "#include <cuda.h>\n",
        "#include <curand.h>\n",
        "\n",
        "__global__  void my_kernel(void){\n",
        "}\n",
        "\n",
        "int main(void){\n",
        "    my_kernel<<<1,1>>>();\n",
        "\n",
        "    printf(\"hello world\\n\");\n",
        "    return 0;\n",
        "}"
      ],
      "execution_count": null,
      "outputs": []
    },
    {
      "cell_type": "code",
      "metadata": {
        "id": "fHNERhAWC1Q8",
        "colab_type": "code",
        "colab": {}
      },
      "source": [
        "!nvcc -o /content/src/ex1.cu /content/src/ex1.cu -lcurand"
      ],
      "execution_count": null,
      "outputs": []
    },
    {
      "cell_type": "code",
      "metadata": {
        "id": "Pw-2S0t-C4Sx",
        "colab_type": "code",
        "colab": {}
      },
      "source": [
        "!/content/src/ex1.cu"
      ],
      "execution_count": null,
      "outputs": []
    },
    {
      "cell_type": "code",
      "metadata": {
        "id": "Xfr0iDNmC7Dw",
        "colab_type": "code",
        "colab": {}
      },
      "source": [
        ""
      ],
      "execution_count": null,
      "outputs": []
    },
    {
      "cell_type": "markdown",
      "metadata": {
        "id": "iYbs4cp_HHoW",
        "colab_type": "text"
      },
      "source": [
        "# Ex2 - Add two numbers"
      ]
    },
    {
      "cell_type": "code",
      "metadata": {
        "id": "O48cFdzQHKVP",
        "colab_type": "code",
        "colab": {}
      },
      "source": [
        "%%cuda --name ex2.cu\n",
        "/*\n",
        " * This program executs a kernel.\n",
        " */\n",
        "#include <stdio.h>\n",
        "#include <stdlib.h>\n",
        "#include <cuda.h>\n",
        "#include <curand.h>\n",
        "\n",
        "__global__  void my_add(int *a, int *b, int *c){\n",
        "    *c = *a + *b;\n",
        "}\n",
        "\n",
        "int main(void){\n",
        "    int a, b, c;\n",
        "    int *d_a, *d_b, *d_c;\n",
        "    int size = sizeof(int);\n",
        "\n",
        "    // Allocatee space for device copies of a, b, c\n",
        "    cudaMalloc((void **)&d_a, size);\n",
        "    cudaMalloc((void **)&d_b, size);\n",
        "    cudaMalloc((void **)&d_c, size);\n",
        "\n",
        "    a = 2;\n",
        "    b = 7;\n",
        "\n",
        "    cudaMemcpy(d_a, &a, size, cudaMemcpyHostToDevice);\n",
        "    cudaMemcpy(d_b, &b, size, cudaMemcpyHostToDevice);\n",
        "\n",
        "    // Launch add on GPU\n",
        "    my_add<<<1,1>>>(d_a, d_b, d_c);\n",
        "\n",
        "    // Copy result back to host\n",
        "    cudaMemcpy(&c, d_c, size, cudaMemcpyDeviceToHost);\n",
        "    printf(\"c=%d\\n\",c);\n",
        "\n",
        "    // Cleanup\n",
        "    cudaFree(d_a); cudaFree(d_b); cudaFree(d_c);\n",
        "    return 0;\n",
        "}"
      ],
      "execution_count": null,
      "outputs": []
    },
    {
      "cell_type": "code",
      "metadata": {
        "id": "l2F1UnmNI_qi",
        "colab_type": "code",
        "colab": {}
      },
      "source": [
        "!nvcc -o /content/src/ex2.cu /content/src/ex2.cu -lcurand"
      ],
      "execution_count": null,
      "outputs": []
    },
    {
      "cell_type": "code",
      "metadata": {
        "id": "EDkmzpLhJB_P",
        "colab_type": "code",
        "colab": {}
      },
      "source": [
        "!/content/src/ex2.cu"
      ],
      "execution_count": null,
      "outputs": []
    },
    {
      "cell_type": "code",
      "metadata": {
        "id": "KDIWsvxmJkO2",
        "colab_type": "code",
        "colab": {}
      },
      "source": [
        ""
      ],
      "execution_count": null,
      "outputs": []
    },
    {
      "cell_type": "markdown",
      "metadata": {
        "id": "N69BNi-DJ7Wk",
        "colab_type": "text"
      },
      "source": [
        "# Ex3 - Add with blocks"
      ]
    },
    {
      "cell_type": "code",
      "metadata": {
        "id": "w3Hh8H4RJ9Xn",
        "colab_type": "code",
        "colab": {}
      },
      "source": [
        "%%cuda --name ex3.cu\n",
        "/*\n",
        " * This program executs a kernel.\n",
        " */\n",
        "#include <stdio.h>\n",
        "#include <stdlib.h>\n",
        "#include <cuda.h>\n",
        "#include <curand.h>\n",
        "\n",
        "__global__  void my_add(int *a, int *b, int *c){\n",
        "    c[blockIdx.x] = a[blockIdx.x] + b[blockIdx.x];\n",
        "}\n",
        "\n",
        "void random_ints(int* x, int size)\n",
        "{\n",
        "\tint i;\n",
        "\tfor (i=0;i<size;i++) {\n",
        "\t\tx[i]=rand()%10;\n",
        "\t}\n",
        "}\n",
        "\n",
        "# define N 512\n",
        "int main(void){\n",
        "    int *a, *b, *c;\n",
        "    int *d_a, *d_b, *d_c;\n",
        "    int size = N * sizeof(int);\n",
        "\n",
        "    // Allocatee space for device copies of a, b, c\n",
        "    cudaMalloc((void **)&d_a, size);\n",
        "    cudaMalloc((void **)&d_b, size);\n",
        "    cudaMalloc((void **)&d_c, size);\n",
        "\n",
        "    a = (int *)malloc(size); random_ints(a, N);\n",
        "    b = (int *)malloc(size); random_ints(b, N);\n",
        "    c = (int *)malloc(size);\n",
        "\n",
        "    cudaMemcpy(d_a, a, size, cudaMemcpyHostToDevice);\n",
        "    cudaMemcpy(d_b, b, size, cudaMemcpyHostToDevice);\n",
        "\n",
        "    // Launch add on GPU\n",
        "    my_add<<<N,1>>>(d_a, d_b, d_c);\n",
        "\n",
        "    // Copy result back to host\n",
        "    cudaMemcpy(c, d_c, size, cudaMemcpyDeviceToHost);\n",
        "//    for(int i=0;i<N;i++)\n",
        "//      printf(\"%d) c=%d\\n\",i,c[i]);\n",
        "\n",
        "    // Cleanup\n",
        "    free(a); free(b); free(c);\n",
        "    cudaFree(d_a); cudaFree(d_b); cudaFree(d_c);\n",
        "    return 0;\n",
        "}"
      ],
      "execution_count": null,
      "outputs": []
    },
    {
      "cell_type": "code",
      "metadata": {
        "id": "AEARU0zHKcGq",
        "colab_type": "code",
        "colab": {}
      },
      "source": [
        "!nvcc -o /content/src/ex3.cu /content/src/ex3.cu -lcurand"
      ],
      "execution_count": null,
      "outputs": []
    },
    {
      "cell_type": "code",
      "metadata": {
        "id": "-O1h_s4WKd9j",
        "colab_type": "code",
        "colab": {}
      },
      "source": [
        "!/content/src/ex3.cu"
      ],
      "execution_count": null,
      "outputs": []
    },
    {
      "cell_type": "markdown",
      "metadata": {
        "id": "K4EXY8lRMLus",
        "colab_type": "text"
      },
      "source": [
        "# Ex4 - Add with threads"
      ]
    },
    {
      "cell_type": "code",
      "metadata": {
        "id": "7iOpqfvGMN-M",
        "colab_type": "code",
        "colab": {}
      },
      "source": [
        "%%cuda --name ex4.cu\n",
        "/*\n",
        " * This program executs a kernel.\n",
        " */\n",
        "#include <stdio.h>\n",
        "#include <stdlib.h>\n",
        "#include <cuda.h>\n",
        "#include <curand.h>\n",
        "\n",
        "__global__  void my_add(int *a, int *b, int *c){\n",
        "    c[threadIdx.x] = a[threadIdx.x] + b[threadIdx.x];\n",
        "}\n",
        "\n",
        "void random_ints(int* x, int size)\n",
        "{\n",
        "\tint i;\n",
        "\tfor (i=0;i<size;i++) {\n",
        "\t\tx[i]=rand()%10;\n",
        "\t}\n",
        "}\n",
        "\n",
        "# define N 512\n",
        "int main(void){\n",
        "    int *a, *b, *c;\n",
        "    int *d_a, *d_b, *d_c;\n",
        "    int size = N * sizeof(int);\n",
        "\n",
        "    // Allocatee space for device copies of a, b, c\n",
        "    cudaMalloc((void **)&d_a, size);\n",
        "    cudaMalloc((void **)&d_b, size);\n",
        "    cudaMalloc((void **)&d_c, size);\n",
        "\n",
        "    a = (int *)malloc(size); random_ints(a, N);\n",
        "    b = (int *)malloc(size); random_ints(b, N);\n",
        "    c = (int *)malloc(size);\n",
        "\n",
        "    cudaMemcpy(d_a, a, size, cudaMemcpyHostToDevice);\n",
        "    cudaMemcpy(d_b, b, size, cudaMemcpyHostToDevice);\n",
        "\n",
        "    // Launch add on GPU\n",
        "    my_add<<<1,N>>>(d_a, d_b, d_c);\n",
        "\n",
        "    // Copy result back to host\n",
        "    cudaMemcpy(c, d_c, size, cudaMemcpyDeviceToHost);\n",
        "//    for(int i=0;i<N;i++)\n",
        "//      printf(\"%d) c=%d\\n\",i,c[i]);\n",
        "\n",
        "    // Cleanup\n",
        "    free(a); free(b); free(c);\n",
        "    cudaFree(d_a); cudaFree(d_b); cudaFree(d_c);\n",
        "    return 0;\n",
        "}"
      ],
      "execution_count": null,
      "outputs": []
    },
    {
      "cell_type": "code",
      "metadata": {
        "id": "thT-CUWjMdRt",
        "colab_type": "code",
        "colab": {}
      },
      "source": [
        "!nvcc -o /content/src/ex4.cu /content/src/ex4.cu -lcurand"
      ],
      "execution_count": null,
      "outputs": []
    },
    {
      "cell_type": "code",
      "metadata": {
        "id": "DJX8wfp4MfWE",
        "colab_type": "code",
        "colab": {}
      },
      "source": [
        "!/content/src/ex4.cu"
      ],
      "execution_count": null,
      "outputs": []
    },
    {
      "cell_type": "markdown",
      "metadata": {
        "id": "0uqG0k7iMjdG",
        "colab_type": "text"
      },
      "source": [
        "# Ex5 - With blocks and threads"
      ]
    },
    {
      "cell_type": "code",
      "metadata": {
        "id": "h4v2Mk2NMp97",
        "colab_type": "code",
        "colab": {}
      },
      "source": [
        "%%cuda --name ex5.cu\n",
        "/*\n",
        " * This program executs a kernel.\n",
        " */\n",
        "#include <stdio.h>\n",
        "#include <stdlib.h>\n",
        "#include <cuda.h>\n",
        "#include <curand.h>\n",
        "\n",
        "__global__  void my_add(int *a, int *b, int *c){\n",
        "    int index = blockIdx.x * blockDim.x + threadIdx.x;\n",
        "    c[index] = a[index] + b[index];\n",
        "}\n",
        "\n",
        "void random_ints(int* x, int size)\n",
        "{\n",
        "\tint i;\n",
        "\tfor (i=0;i<size;i++) {\n",
        "\t\tx[i]=rand()%10;\n",
        "\t}\n",
        "}\n",
        "\n",
        "# define N (2048 * 2048)\n",
        "# define THREADS_PER_BLOCK 512\n",
        "int main(void){\n",
        "    int *a, *b, *c;\n",
        "    int *d_a, *d_b, *d_c;\n",
        "    int size = N * sizeof(int);\n",
        "\n",
        "    // Allocatee space for device copies of a, b, c\n",
        "    cudaMalloc((void **)&d_a, size);\n",
        "    cudaMalloc((void **)&d_b, size);\n",
        "    cudaMalloc((void **)&d_c, size);\n",
        "\n",
        "    a = (int *)malloc(size); random_ints(a, N);\n",
        "    b = (int *)malloc(size); random_ints(b, N);\n",
        "    c = (int *)malloc(size);\n",
        "\n",
        "    cudaMemcpy(d_a, a, size, cudaMemcpyHostToDevice);\n",
        "    cudaMemcpy(d_b, b, size, cudaMemcpyHostToDevice);\n",
        "\n",
        "    // Launch add on GPU\n",
        "    my_add<<<N/THREADS_PER_BLOCK,THREADS_PER_BLOCK>>>(d_a, d_b, d_c);\n",
        "\n",
        "    // Copy result back to host\n",
        "    cudaMemcpy(c, d_c, size, cudaMemcpyDeviceToHost);\n",
        "//    for(int i=0;i<N;i++)\n",
        "//      printf(\"%d) c=%d\\n\",i,c[i]);\n",
        "\n",
        "    // Cleanup\n",
        "    free(a); free(b); free(c);\n",
        "    cudaFree(d_a); cudaFree(d_b); cudaFree(d_c);\n",
        "    return 0;\n",
        "}"
      ],
      "execution_count": null,
      "outputs": []
    },
    {
      "cell_type": "code",
      "metadata": {
        "id": "KwWavMhmN8b5",
        "colab_type": "code",
        "colab": {}
      },
      "source": [
        "!nvcc -o /content/src/ex5.cu /content/src/ex5.cu -lcurand"
      ],
      "execution_count": null,
      "outputs": []
    },
    {
      "cell_type": "code",
      "metadata": {
        "id": "L8k6154EOBtX",
        "colab_type": "code",
        "colab": {}
      },
      "source": [
        "!/content/src/ex5.cu"
      ],
      "execution_count": null,
      "outputs": []
    },
    {
      "cell_type": "markdown",
      "metadata": {
        "id": "uelIEDMmVhgO",
        "colab_type": "text"
      },
      "source": [
        "# Ex6 - Mat mul"
      ]
    },
    {
      "cell_type": "code",
      "metadata": {
        "id": "2crbUrCtVipk",
        "colab_type": "code",
        "colab": {}
      },
      "source": [
        "%%cuda --name ex6.cu\n",
        "/*\n",
        " * This program multiplies two matrices.\n",
        " */\n",
        "#include <stdio.h>\n",
        "#include <stdlib.h>\n",
        "#include <cuda.h>\n",
        "#include <curand.h>\n",
        "\n",
        "#define WIDTH 16\n",
        "\n",
        "typedef struct {\n",
        "    int width;\n",
        "    int height;\n",
        "    float* elements;\n",
        "} Matrix;\n",
        "\n",
        "// Matrix multiplication kernel ? thread specification\n",
        "__global__ void MatrixMulKernel(Matrix M, Matrix N, Matrix P)\n",
        "{\n",
        "    // 2D Thread ID\n",
        "    int tx = threadIdx.x;\n",
        "    int ty = threadIdx.y;\n",
        "\n",
        "    // Pvalue is used to store the element of the matrix\n",
        "    // that is computed by the thread\n",
        "    float Pvalue = 0;\n",
        " \n",
        "    for (int k = 0; k < M.width; ++k)\n",
        "    { \n",
        "         float Melement = M.elements[ty * M.width + k];\n",
        "         float Nelement = N.elements[k * N.width + tx];\n",
        "         Pvalue += Melement * Nelement;\n",
        "    } \n",
        "    // Write the matrix to device memory;\n",
        "    // each thread writes one element\n",
        "    P.elements[ty * P.width + tx] = Pvalue;\n",
        "}\n",
        "\n",
        "// Allocate a device matrix of same size as M.\n",
        "Matrix AllocateDeviceMatrix(const Matrix M)\n",
        "{\n",
        "    Matrix Mdevice = M;\n",
        "    int size = M.width * M.height * sizeof(float);\n",
        "    cudaMalloc((void**)&Mdevice.elements, size);\n",
        "    return Mdevice;\n",
        "}\n",
        "\n",
        "// Free a device matrix.\n",
        "void FreeDeviceMatrix(Matrix M) {\n",
        "    cudaFree(M.elements);\n",
        "}\n",
        "\n",
        "void FreeMatrix(Matrix M) {\n",
        "    free(M.elements);\n",
        "}\n",
        "\n",
        "// Copy a host matrix to a device matrix.\n",
        "void CopyToDeviceMatrix(Matrix Mdevice, const Matrix Mhost)\n",
        "{\n",
        "    int size = Mhost.width * Mhost.height * sizeof(float);\n",
        "    cudaMemcpy(Mdevice.elements, Mhost.elements, size, \n",
        "\tcudaMemcpyHostToDevice);\n",
        "}\n",
        "\n",
        "// Copy a device matrix to a host matrix.\n",
        "void CopyFromDeviceMatrix(Matrix Mhost, const Matrix Mdevice)\n",
        "{\n",
        "    int size = Mdevice.width * Mdevice.height * sizeof(float);\n",
        "    cudaMemcpy(Mhost.elements, Mdevice.elements, size, \n",
        "\tcudaMemcpyDeviceToHost);\n",
        "}\n",
        "\n",
        "// Matrix multiplication on the device\n",
        "void MatrixMulOnDevice(const Matrix M, const Matrix N, Matrix P)\n",
        "{\n",
        "    // Load M and N to the device\n",
        "    Matrix Md = AllocateDeviceMatrix(M);\n",
        "    CopyToDeviceMatrix(Md, M);\n",
        "    Matrix Nd = AllocateDeviceMatrix(N);\n",
        "    CopyToDeviceMatrix(Nd, N);\n",
        "\n",
        "    // Allocate P on the device\n",
        "    Matrix Pd = AllocateDeviceMatrix(P);\n",
        "    CopyToDeviceMatrix(Pd, P); // Clear memory\n",
        "    \n",
        "     // Setup the execution configuration\n",
        "    dim3 dimBlock(WIDTH, WIDTH);\n",
        "    dim3 dimGrid(1, 1);\n",
        "\n",
        "    // Launch the device computation threads!\n",
        "    MatrixMulKernel<<<dimGrid, dimBlock>>>(Md, Nd, Pd);\n",
        "\n",
        "    // Read P from the device\n",
        "    CopyFromDeviceMatrix(P, Pd); \n",
        "\n",
        "    // Free device matrices\n",
        "    FreeDeviceMatrix(Md);\n",
        "    FreeDeviceMatrix(Nd);\n",
        "    FreeDeviceMatrix(Pd);\n",
        "} \n",
        "\n",
        "Matrix AllocateMatrix(int height, int width)\n",
        "{\n",
        "    Matrix M;\n",
        "    M.width = width;\n",
        "    M.height = height;\n",
        "    int size = M.width * M.height;\n",
        "    M.elements = NULL;\n",
        "\n",
        "    M.elements = (float*) malloc(size*sizeof(float));\n",
        "\n",
        "    for(unsigned int i = 0; i < M.height * M.width; i++)\n",
        "    {\n",
        "        M.elements[i] = (rand() / (float)RAND_MAX);\n",
        "        if(rand() % 2)\n",
        "            M.elements[i] = - M.elements[i];\n",
        "    }\n",
        "    return M;\n",
        "}\n",
        "\n",
        "\n",
        "void PrintMatrix(float* ma, int X, int Y)\n",
        "{\n",
        "\tint i,j;\n",
        "\tfor (j=0;j<Y;j++) {\n",
        "\t\tfor (i=0;i<X;i++) {\n",
        "\t\t\tprintf(\"%4f \",ma[i+j*X]);\n",
        "\t\t}\n",
        "\t\tprintf(\"\\n\");\n",
        "\t}\n",
        "}\n",
        "\n",
        "\n",
        "int main(void) \n",
        "{\n",
        "\tint i,j;\n",
        "    // Allocate and initialize the matrices\n",
        "    Matrix  M  = AllocateMatrix(WIDTH, WIDTH);\n",
        "    Matrix  N  = AllocateMatrix(WIDTH, WIDTH);\n",
        "    Matrix  P  = AllocateMatrix(WIDTH, WIDTH);\n",
        "\n",
        "    // M * N on the device\n",
        "    MatrixMulOnDevice(M, N, P);\n",
        "\n",
        "\n",
        "\tPrintMatrix(M.elements,M.width,M.height);\n",
        "\tprintf(\"\\n\");\n",
        "\tPrintMatrix(N.elements,N.width,N.height);\n",
        "\tprintf(\"\\n\");\n",
        "\tPrintMatrix(P.elements,P.width,P.height);\n",
        "\n",
        "    // Free matrices\n",
        "    FreeMatrix(M);\n",
        "    FreeMatrix(N);\n",
        "    FreeMatrix(P);\n",
        "\n",
        "    return 0;\n",
        "}\n",
        "\n",
        "\n"
      ],
      "execution_count": null,
      "outputs": []
    },
    {
      "cell_type": "code",
      "metadata": {
        "id": "dFfj_CNwVwnj",
        "colab_type": "code",
        "colab": {}
      },
      "source": [
        "!nvcc -o /content/src/ex6.cu /content/src/ex6.cu -lcurand"
      ],
      "execution_count": null,
      "outputs": []
    },
    {
      "cell_type": "code",
      "metadata": {
        "id": "i7sd2C-BVw5k",
        "colab_type": "code",
        "colab": {}
      },
      "source": [
        "!/content/src/ex6.cu"
      ],
      "execution_count": null,
      "outputs": []
    },
    {
      "cell_type": "markdown",
      "metadata": {
        "id": "WWECGiC8Nb7c",
        "colab_type": "text"
      },
      "source": [
        "# Data from Google Drive"
      ]
    },
    {
      "cell_type": "code",
      "metadata": {
        "id": "7Is5T9w_WCqG",
        "colab_type": "code",
        "colab": {}
      },
      "source": [
        "from google.colab import drive\n",
        "drive.mount('/content/drive')"
      ],
      "execution_count": null,
      "outputs": []
    },
    {
      "cell_type": "code",
      "metadata": {
        "id": "bviT7IR6NeGa",
        "colab_type": "code",
        "colab": {}
      },
      "source": [
        "!ls"
      ],
      "execution_count": null,
      "outputs": []
    },
    {
      "cell_type": "code",
      "metadata": {
        "id": "QjZ_wJpYNmFo",
        "colab_type": "code",
        "colab": {}
      },
      "source": [
        "!pwd"
      ],
      "execution_count": null,
      "outputs": []
    },
    {
      "cell_type": "code",
      "metadata": {
        "id": "t3iobvJMNoAY",
        "colab_type": "code",
        "colab": {}
      },
      "source": [
        "!cd /content/drive"
      ],
      "execution_count": null,
      "outputs": []
    },
    {
      "cell_type": "code",
      "metadata": {
        "id": "mjEJjbGbNp24",
        "colab_type": "code",
        "colab": {}
      },
      "source": [
        "!pwd"
      ],
      "execution_count": null,
      "outputs": []
    },
    {
      "cell_type": "code",
      "metadata": {
        "id": "ZzkxOkyINqa2",
        "colab_type": "code",
        "colab": {}
      },
      "source": [
        "!ls /content/drive/'My Drive'"
      ],
      "execution_count": null,
      "outputs": []
    },
    {
      "cell_type": "code",
      "metadata": {
        "id": "S5mNYZYANsso",
        "colab_type": "code",
        "colab": {}
      },
      "source": [
        ""
      ],
      "execution_count": null,
      "outputs": []
    },
    {
      "cell_type": "markdown",
      "metadata": {
        "id": "eMK8ClXxKyEJ",
        "colab_type": "text"
      },
      "source": [
        "# Use header files"
      ]
    },
    {
      "cell_type": "code",
      "metadata": {
        "id": "-xkRD5_TKzeC",
        "colab_type": "code",
        "colab": {}
      },
      "source": [
        "%%cuda --name linear_algebra_helpers.h\n",
        "/*\n",
        " * This program multiplies two matrices.\n",
        " */\n",
        "#include <stdio.h>\n",
        "#include <stdlib.h>\n",
        "#include <fstream>\n",
        "#include <cuda.h>\n",
        "#include <curand.h>\n",
        "\n",
        "#define WIDTH 16\n",
        "\n",
        "/* *****************************\n",
        " * Vector Type\n",
        " ********************************/\n",
        "typedef struct {\n",
        "    int length;\n",
        "    float* elements;\n",
        "} Vector;\n",
        "\n",
        "/* *****************************\n",
        " * Vector Functions\n",
        " ********************************/\n",
        "// Vector multiplication kernel ? thread specification\n",
        "__global__ void VectorMulKernel(Vector M, Vector N, Vector P)\n",
        "{\n",
        "    // 1D Thread ID\n",
        "    int tx = threadIdx.x;\n",
        "\n",
        "    // Pvalue is used to store the element of the vector\n",
        "    // that is computed by the thread\n",
        "    float Pvalue = 0;\n",
        "\n",
        "    float Melement = M.elements[tx];\n",
        "    float Nelement = N.elements[tx];\n",
        "    Pvalue += Melement * Nelement;\n",
        "\n",
        "    // Write the matrix to device memory;\n",
        "    // each thread writes one element\n",
        "    P.elements[tx] = Pvalue;\n",
        "}\n",
        "\n",
        "// Allocate a device vector of same size as V.\n",
        "Vector AllocateDeviceVector(const Vector V)\n",
        "{\n",
        "    Vector Vdevice = V;\n",
        "    int size = V.length * sizeof(float);\n",
        "    cudaMalloc((void**)&Vdevice.elements, size);\n",
        "    return Vdevice;\n",
        "}\n",
        "\n",
        "// Free a device vector.\n",
        "void FreeDeviceVector(Vector V) {\n",
        "    cudaFree(V.elements);\n",
        "}\n",
        "\n",
        "void FreeVector(Vector V) {\n",
        "    free(V.elements);\n",
        "}\n",
        "\n",
        "// Copy a host vector to a device vector.\n",
        "void CopyToDeviceVector(Vector Vdevice, const Vector Vhost)\n",
        "{\n",
        "    int size = Vhost.length * sizeof(float);\n",
        "    cudaMemcpy(Vdevice.elements, Vhost.elements, size, \n",
        "\t  cudaMemcpyHostToDevice);\n",
        "}\n",
        "\n",
        "// Copy a device vector to a host vector.\n",
        "void CopyFromDeviceVector(Vector Vhost, const Vector Vdevice)\n",
        "{\n",
        "    int size = Vdevice.length * sizeof(float);\n",
        "    cudaMemcpy(Vhost.elements, Vdevice.elements, size, \n",
        "\t  cudaMemcpyDeviceToHost);\n",
        "}\n",
        "\n",
        "// Vector multiplication on the device\n",
        "void VectorMulOnDevice(const Vector M, const Vector N, Vector P)\n",
        "{\n",
        "    // Load M and N to the device\n",
        "    Vector Md = AllocateDeviceVector(M);\n",
        "    CopyToDeviceVector(Md, M);\n",
        "    Vector Nd = AllocateDeviceVector(N);\n",
        "    CopyToDeviceVector(Nd, N);\n",
        "\n",
        "    // Allocate P on the device\n",
        "    Vector Pd = AllocateDeviceVector(P);\n",
        "    CopyToDeviceVector(Pd, P); // Clear memory\n",
        "    \n",
        "     // Setup the execution configuration\n",
        "    dim3 dimBlock(WIDTH);\n",
        "    dim3 dimGrid(1);\n",
        "\n",
        "    // Launch the device computation threads!\n",
        "    VectorMulKernel<<<dimGrid, dimBlock>>>(Md, Nd, Pd);\n",
        "\n",
        "    // Read P from the device\n",
        "    CopyFromDeviceVector(P, Pd); \n",
        "\n",
        "    // Free device vectors\n",
        "    FreeDeviceVector(Md);\n",
        "    FreeDeviceVector(Nd);\n",
        "    FreeDeviceVector(Pd);\n",
        "} \n",
        "\n",
        "Vector AllocateVector(int length)\n",
        "{\n",
        "    Vector M;\n",
        "    M.length = length;\n",
        "    int size = M.length;\n",
        "    M.elements = NULL;\n",
        "\n",
        "    M.elements = (float*) malloc(size*sizeof(float));\n",
        "\n",
        "    for(unsigned int i = 0; i < M.length; i++)\n",
        "    {\n",
        "        M.elements[i] = (rand() / (float)RAND_MAX);\n",
        "        if(rand() % 2)\n",
        "            M.elements[i] = - M.elements[i];\n",
        "    }\n",
        "    return M;\n",
        "}\n",
        "\n",
        "\n",
        "void PrintVector(float* ma, int X)\n",
        "{\n",
        "\tint i;\n",
        "\tfor (i=0;i<X;i++) {\n",
        "\t\t\tprintf(\"%4f \",ma[i]);\n",
        "\t}\n",
        "}\n",
        "\n",
        "// Serialize Vector\n",
        "void SerializeVector(Vector V, const char *filename)\n",
        "{\n",
        "    std::ofstream f(filename);\n",
        "    for(unsigned int i = 0; i < V.length; i++) {\n",
        "       f << V.elements[i] << '\\n';\n",
        "    } \n",
        "}\n",
        "\n",
        "\n",
        "/* *****************************\n",
        " * Matrix Type\n",
        " ********************************/\n",
        "typedef struct {\n",
        "    int width;\n",
        "    int height;\n",
        "    float* elements;\n",
        "} Matrix;\n",
        "\n",
        "/* *****************************\n",
        " * Matrix Functions\n",
        " ********************************/\n",
        "// Matrix multiplication kernel ? thread specification\n",
        "__global__ void MatrixMulKernel(Matrix M, Matrix N, Matrix P)\n",
        "{\n",
        "    // 2D Thread ID\n",
        "    int tx = threadIdx.x;\n",
        "    int ty = threadIdx.y;\n",
        "\n",
        "    // Pvalue is used to store the element of the matrix\n",
        "    // that is computed by the thread\n",
        "    float Pvalue = 0;\n",
        " \n",
        "    for (int k = 0; k < M.width; ++k)\n",
        "    { \n",
        "         float Melement = M.elements[ty * M.width + k];\n",
        "         float Nelement = N.elements[k * N.width + tx];\n",
        "         Pvalue += Melement * Nelement;\n",
        "    } \n",
        "    // Write the matrix to device memory;\n",
        "    // each thread writes one element\n",
        "    P.elements[ty * P.width + tx] = Pvalue;\n",
        "}\n",
        "\n",
        "// Allocate a device matrix of same size as M.\n",
        "Matrix AllocateDeviceMatrix(const Matrix M)\n",
        "{\n",
        "    Matrix Mdevice = M;\n",
        "    int size = M.width * M.height * sizeof(float);\n",
        "    cudaMalloc((void**)&Mdevice.elements, size);\n",
        "    return Mdevice;\n",
        "}\n",
        "\n",
        "// Free a device matrix.\n",
        "void FreeDeviceMatrix(Matrix M) {\n",
        "    cudaFree(M.elements);\n",
        "}\n",
        "\n",
        "void FreeMatrix(Matrix M) {\n",
        "    free(M.elements);\n",
        "}\n",
        "\n",
        "// Copy a host matrix to a device matrix.\n",
        "void CopyToDeviceMatrix(Matrix Mdevice, const Matrix Mhost)\n",
        "{\n",
        "    int size = Mhost.width * Mhost.height * sizeof(float);\n",
        "    cudaMemcpy(Mdevice.elements, Mhost.elements, size, \n",
        "\tcudaMemcpyHostToDevice);\n",
        "}\n",
        "\n",
        "// Copy a device matrix to a host matrix.\n",
        "void CopyFromDeviceMatrix(Matrix Mhost, const Matrix Mdevice)\n",
        "{\n",
        "    int size = Mdevice.width * Mdevice.height * sizeof(float);\n",
        "    cudaMemcpy(Mhost.elements, Mdevice.elements, size, \n",
        "\tcudaMemcpyDeviceToHost);\n",
        "}\n",
        "\n",
        "// Matrix multiplication on the device\n",
        "void MatrixMulOnDevice(const Matrix M, const Matrix N, Matrix P)\n",
        "{\n",
        "    // Load M and N to the device\n",
        "    Matrix Md = AllocateDeviceMatrix(M);\n",
        "    CopyToDeviceMatrix(Md, M);\n",
        "    Matrix Nd = AllocateDeviceMatrix(N);\n",
        "    CopyToDeviceMatrix(Nd, N);\n",
        "\n",
        "    // Allocate P on the device\n",
        "    Matrix Pd = AllocateDeviceMatrix(P);\n",
        "    CopyToDeviceMatrix(Pd, P); // Clear memory\n",
        "    \n",
        "     // Setup the execution configuration\n",
        "    dim3 dimBlock(WIDTH, WIDTH);\n",
        "    dim3 dimGrid(1, 1);\n",
        "\n",
        "    // Launch the device computation threads!\n",
        "    MatrixMulKernel<<<dimGrid, dimBlock>>>(Md, Nd, Pd);\n",
        "\n",
        "    // Read P from the device\n",
        "    CopyFromDeviceMatrix(P, Pd); \n",
        "\n",
        "    // Free device matrices\n",
        "    FreeDeviceMatrix(Md);\n",
        "    FreeDeviceMatrix(Nd);\n",
        "    FreeDeviceMatrix(Pd);\n",
        "} \n",
        "\n",
        "Matrix AllocateMatrix(int height, int width)\n",
        "{\n",
        "    Matrix M;\n",
        "    M.width = width;\n",
        "    M.height = height;\n",
        "    int size = M.width * M.height;\n",
        "    M.elements = NULL;\n",
        "\n",
        "    M.elements = (float*) malloc(size*sizeof(float));\n",
        "\n",
        "    for(unsigned int i = 0; i < M.height * M.width; i++)\n",
        "    {\n",
        "        M.elements[i] = (rand() / (float)RAND_MAX);\n",
        "        if(rand() % 2)\n",
        "            M.elements[i] = - M.elements[i];\n",
        "    }\n",
        "    return M;\n",
        "}\n",
        "\n",
        "\n",
        "void PrintMatrix(float* ma, int X, int Y)\n",
        "{\n",
        "\tint i,j;\n",
        "\tfor (j=0;j<Y;j++) {\n",
        "\t\tfor (i=0;i<X;i++) {\n",
        "\t\t\tprintf(\"%4f \",ma[i+j*X]);\n",
        "\t\t}\n",
        "\t\tprintf(\"\\n\");\n",
        "\t}\n",
        "}\n",
        "\n",
        "\n",
        "// Serialize Matrix\n",
        "void SerializeMatrix(Matrix M, const char *filename)\n",
        "{\n",
        "    std::ofstream f(filename);\n",
        "    for(unsigned int i = 0; i < M.width; i++) \n",
        "    {\n",
        "        for(unsigned int j = 0; j < M.height; j++)\n",
        "        {\n",
        "            f << M.elements[i * M.height + j] << '\\n';\n",
        "        }\n",
        "\n",
        "    } \n",
        "}\n",
        "\n"
      ],
      "execution_count": null,
      "outputs": []
    },
    {
      "cell_type": "markdown",
      "metadata": {
        "id": "JaQPBR49YjtU",
        "colab_type": "text"
      },
      "source": [
        "## Testing"
      ]
    },
    {
      "cell_type": "code",
      "metadata": {
        "id": "sotA97HeK8Gg",
        "colab_type": "code",
        "colab": {}
      },
      "source": [
        "%%cuda --name ex7.cu\n",
        "/*\n",
        " * This program multiplies two matrices.\n",
        " */\n",
        "\n",
        " #include \"linear_algebra_helpers.h\"\n",
        "\n",
        "int main(void) \n",
        "{\n",
        "\tint i,j;\n",
        "    // Allocate and initialize the matrices\n",
        "    Matrix  M  = AllocateMatrix(WIDTH, WIDTH);\n",
        "    Matrix  N  = AllocateMatrix(WIDTH, WIDTH);\n",
        "    Matrix  P  = AllocateMatrix(WIDTH, WIDTH);\n",
        " \n",
        "    Vector V1  = AllocateVector(WIDTH);\n",
        "\n",
        "    // M * N on the device\n",
        "    MatrixMulOnDevice(M, N, P);\n",
        "\n",
        "\n",
        "\tPrintMatrix(M.elements,M.width,M.height);\n",
        "\tprintf(\"\\n\");\n",
        "\tPrintMatrix(N.elements,N.width,N.height);\n",
        "\tprintf(\"\\n\");\n",
        "\tPrintMatrix(P.elements,P.width,P.height);\n",
        "\n",
        "    // Free matrices\n",
        "    FreeMatrix(M);\n",
        "    FreeMatrix(N);\n",
        "    FreeMatrix(P);\n",
        " \n",
        "    FreeVector(V1);\n",
        "\n",
        "    return 0;\n",
        "}"
      ],
      "execution_count": null,
      "outputs": []
    },
    {
      "cell_type": "code",
      "metadata": {
        "id": "OMC-TBoVLMtE",
        "colab_type": "code",
        "colab": {}
      },
      "source": [
        "!nvcc -o /content/src/ex7.cu /content/src/ex7.cu -lcurand"
      ],
      "execution_count": null,
      "outputs": []
    },
    {
      "cell_type": "code",
      "metadata": {
        "id": "ur248aOfLT6P",
        "colab_type": "code",
        "colab": {}
      },
      "source": [
        "%%time\n",
        "!/content/src/ex7.cu"
      ],
      "execution_count": null,
      "outputs": []
    },
    {
      "cell_type": "code",
      "metadata": {
        "id": "02L9JChQLOHW",
        "colab_type": "code",
        "colab": {}
      },
      "source": [
        ""
      ],
      "execution_count": null,
      "outputs": []
    },
    {
      "cell_type": "markdown",
      "metadata": {
        "id": "0O6128mGV1sb",
        "colab_type": "text"
      },
      "source": [
        "# Calculate Pi"
      ]
    },
    {
      "cell_type": "markdown",
      "metadata": {
        "id": "RouqjyGqV4mU",
        "colab_type": "text"
      },
      "source": [
        "## Initialize a matrix of points"
      ]
    },
    {
      "cell_type": "code",
      "metadata": {
        "id": "5a_FVrRWV3iV",
        "colab_type": "code",
        "colab": {}
      },
      "source": [
        "%%cuda --name calc_pi_MCMC.cu\n",
        "/*\n",
        " * This program multiplies two matrices.\n",
        " */\n",
        "#include \"linear_algebra_helpers.h\"\n",
        "\n",
        "// 2^13\n",
        "#define NMC  8192 \n",
        "\n",
        "// MCMC Kernel\n",
        "__global__  void my_add(int *a, int *b, int *c){\n",
        "    int index = blockIdx.x * blockDim.x + threadIdx.x;\n",
        "    c[index] = a[index] + b[index];\n",
        "}\n",
        "\n",
        "int main(void) \n",
        "{\n",
        "\t  int i,j;\n",
        "    // Allocate and initialize the matrices\n",
        "    Matrix  M  = AllocateMatrix(WIDTH, WIDTH);\n",
        " \n",
        "    // Initialize Matrix of grid points\n",
        "    for(unsigned int i = 0; i < M.height; i++)\n",
        "    {\n",
        "        for(unsigned int j=0;j < M.width; j++)\n",
        "        {\n",
        "            M.elements[i * M.width + j] = (WIDTH/2 - i)*(WIDTH/2 - i) + (WIDTH/2 - j)*(WIDTH/2 - j);\n",
        "        }\n",
        "    }\n",
        " \n",
        "\t  PrintMatrix(M.elements,M.width,M.height);\n",
        "  \tprintf(\"\\n\");\n",
        " \n",
        "    // X and Y vectors\n",
        "    Vector IdxI = AllocateVector(WIDTH);\n",
        "    Vector IdxJ = AllocateVector(WIDTH);\n",
        " \n",
        "    SerializeVector(IdxI, \"random_numbers.dat\");\n",
        "    SerializeMatrix(M, \"DistanceMatrix.dat\");\n",
        "\n",
        "    // Vector of measurements\n",
        "    Vector PiValues = AllocateVector(NMC);\n",
        "    \n",
        "\n",
        "    // Free matrices\n",
        "    FreeMatrix(M);\n",
        "    FreeVector(IdxI);\n",
        "    FreeVector(IdxJ);\n",
        "    FreeVector(PiValues);\n",
        "\n",
        "    return 0;\n",
        "}"
      ],
      "execution_count": null,
      "outputs": []
    },
    {
      "cell_type": "code",
      "metadata": {
        "id": "LD9KJkhFXHcd",
        "colab_type": "code",
        "colab": {}
      },
      "source": [
        "!nvcc -o /content/src/calc_pi_MCMC /content/src/calc_pi_MCMC.cu -lcurand\n",
        "!/content/src/calc_pi_MCMC"
      ],
      "execution_count": null,
      "outputs": []
    },
    {
      "cell_type": "code",
      "metadata": {
        "id": "jYk1ZUL7hiL4",
        "colab_type": "code",
        "colab": {}
      },
      "source": [
        "import matplotlib.pyplot as plt\n",
        "import numpy\n",
        "\n",
        "data = numpy.loadtxt(\"DistanceMatrix.dat\")\n",
        "size = data.shape\n",
        "dimM = int(numpy.sqrt(size[0]));\n",
        "dimN = int(size[0]/dimM)\n",
        "\n",
        "print(numpy.sqrt(size))\n",
        "# plt.plot(data)\n",
        "plt.imshow(data.reshape(dimM,dimN), cmap='hot', interpolation='nearest')\n",
        "plt.show()"
      ],
      "execution_count": null,
      "outputs": []
    },
    {
      "cell_type": "code",
      "metadata": {
        "id": "d64R_h8Zh53z",
        "colab_type": "code",
        "colab": {}
      },
      "source": [
        ""
      ],
      "execution_count": null,
      "outputs": []
    },
    {
      "cell_type": "markdown",
      "metadata": {
        "id": "ib_Q0vZ6NcHo",
        "colab_type": "text"
      },
      "source": [
        "# Working with Drive and Git"
      ]
    },
    {
      "cell_type": "markdown",
      "metadata": {
        "id": "KFgJ5Md7Nm4w",
        "colab_type": "text"
      },
      "source": [
        "## Initalize google drive"
      ]
    },
    {
      "cell_type": "code",
      "metadata": {
        "id": "sWIhvt-INop8",
        "colab_type": "code",
        "colab": {}
      },
      "source": [
        "from google.colab import drive\n",
        "drive.mount('/content/drive')"
      ],
      "execution_count": null,
      "outputs": []
    },
    {
      "cell_type": "code",
      "metadata": {
        "id": "zN5WuTrtN2hW",
        "colab_type": "code",
        "colab": {}
      },
      "source": [
        "%cd \"/content/drive/My Drive\""
      ],
      "execution_count": null,
      "outputs": []
    },
    {
      "cell_type": "markdown",
      "metadata": {
        "id": "N1WvPkC9OmCs",
        "colab_type": "text"
      },
      "source": [
        "## Initialize with the git repo on github\n"
      ]
    },
    {
      "cell_type": "code",
      "metadata": {
        "id": "aUdVdTtiN_vu",
        "colab_type": "code",
        "colab": {}
      },
      "source": [
        "#!git clone https://github.com/v1j4y/calculate_pi_GPU.git"
      ],
      "execution_count": null,
      "outputs": []
    },
    {
      "cell_type": "code",
      "metadata": {
        "id": "nKnAGJcDN8mj",
        "colab_type": "code",
        "colab": {}
      },
      "source": [
        "%cd \"calculate_pi_GPU\""
      ],
      "execution_count": null,
      "outputs": []
    },
    {
      "cell_type": "code",
      "metadata": {
        "id": "fl3ch08mOMIJ",
        "colab_type": "code",
        "colab": {}
      },
      "source": [
        "!ls"
      ],
      "execution_count": null,
      "outputs": []
    },
    {
      "cell_type": "code",
      "metadata": {
        "id": "nE5_mPKtOaBt",
        "colab_type": "code",
        "colab": {}
      },
      "source": [
        "!git pull"
      ],
      "execution_count": null,
      "outputs": []
    },
    {
      "cell_type": "code",
      "metadata": {
        "id": "boiAfmu3Ob_b",
        "colab_type": "code",
        "colab": {}
      },
      "source": [
        "!ls src/ lib/"
      ],
      "execution_count": null,
      "outputs": []
    },
    {
      "cell_type": "code",
      "metadata": {
        "id": "NEDR5dEqx7sF",
        "colab_type": "code",
        "colab": {}
      },
      "source": [
        "!pwd"
      ],
      "execution_count": null,
      "outputs": []
    },
    {
      "cell_type": "markdown",
      "metadata": {
        "id": "cQRbaYanOn4d",
        "colab_type": "text"
      },
      "source": [
        "## Modify work"
      ]
    },
    {
      "cell_type": "code",
      "metadata": {
        "id": "caUMasGkOpfx",
        "colab_type": "code",
        "colab": {}
      },
      "source": [
        "%%cuda --name calc_pi_MCMC_with_git_files.cu\n",
        "/*\n",
        " * This program multiplies two matrices.\n",
        " */\n",
        "#include \"linear_algebra_helpers.h\"\n",
        "\n",
        "// 2^13\n",
        "#define NMC  8192 \n",
        "\n",
        "// MCMC Kernel\n",
        "__global__  void my_add(int *a, int *b, int *c){\n",
        "    int index = blockIdx.x * blockDim.x + threadIdx.x;\n",
        "    c[index] = a[index] + b[index];\n",
        "}\n",
        "\n",
        "int main(void) \n",
        "{\n",
        "\t  int i,j;\n",
        "    // Allocate and initialize the matrices\n",
        "    Matrix  M  = AllocateMatrix(WIDTH, WIDTH);\n",
        " \n",
        "    // Initialize Matrix of grid points\n",
        "    for(unsigned int i = 0; i < M.height; i++)\n",
        "    {\n",
        "        for(unsigned int j=0;j < M.width; j++)\n",
        "        {\n",
        "            M.elements[i * M.width + j] = (WIDTH/2 - i)*(WIDTH/2 - i) + (WIDTH/2 - j)*(WIDTH/2 - j);\n",
        "        }\n",
        "    }\n",
        " \n",
        "\t  PrintMatrix(M.elements,M.width,M.height);\n",
        "  \tprintf(\"\\n\");\n",
        " \n",
        "    // X and Y vectors\n",
        "    Vector IdxI = AllocateVector(WIDTH);\n",
        "    Vector IdxJ = AllocateVector(WIDTH);\n",
        " \n",
        "    SerializeVector(IdxI, \"random_numbers.dat\");\n",
        "    SerializeMatrix(M, \"DistanceMatrix.dat\");\n",
        "\n",
        "    // Vector of measurements\n",
        "    Vector PiValues = AllocateVector(NMC);\n",
        "    \n",
        "\n",
        "    // Free matrices\n",
        "    FreeMatrix(M);\n",
        "    FreeVector(IdxI);\n",
        "    FreeVector(IdxJ);\n",
        "    FreeVector(PiValues);\n",
        "\n",
        "    return 0;\n",
        "}"
      ],
      "execution_count": null,
      "outputs": []
    },
    {
      "cell_type": "code",
      "metadata": {
        "id": "wyOkX6INxND1",
        "colab_type": "code",
        "colab": {}
      },
      "source": [
        "!nvcc -I./lib/ -o \"/content/drive/My Drive/calculate_pi_GPU/src/calc_pi_MCMC_with_git_files\" \"/content/drive/My Drive/calculate_pi_GPU/src/calc_pi_MCMC_with_git_files.cu\" -lcurand\n",
        "!\"/content/drive/My Drive/calculate_pi_GPU/src/calc_pi_MCMC_with_git_files\""
      ],
      "execution_count": null,
      "outputs": []
    },
    {
      "cell_type": "markdown",
      "metadata": {
        "id": "GexWfooq1Es2",
        "colab_type": "text"
      },
      "source": [
        "# Now work directly on repo"
      ]
    },
    {
      "cell_type": "code",
      "metadata": {
        "id": "bfomARpfyTPb",
        "colab_type": "code",
        "colab": {}
      },
      "source": [
        "!cat src/main.cpp"
      ],
      "execution_count": null,
      "outputs": []
    },
    {
      "cell_type": "code",
      "metadata": {
        "id": "Ta-NhAYj0iXd",
        "colab_type": "code",
        "colab": {}
      },
      "source": [
        "/*\n",
        " * Author:  Vijay Gopal Chilkuri\n",
        " * Email:   vijay.gopal.c@gmail.com\n",
        " * Date:    12-08-2020\n",
        " */\n",
        "\n",
        "#include \"linear_algebra_helpers.h\"\n",
        "\n",
        "// 2^13\n",
        "#define NMC  8192 \n",
        "\n",
        "// MCMC Kernel\n",
        "__global__  void my_add(int *a, int *b, int *c){\n",
        "    int index = blockIdx.x * blockDim.x + threadIdx.x;\n",
        "    c[index] = a[index] + b[index];\n",
        "}\n",
        "\n",
        "int main(void) \n",
        "{\n",
        "\t  int i,j;\n",
        "    // Allocate and initialize the matrices\n",
        "    Matrix  M  = AllocateMatrix(WIDTH, WIDTH);\n",
        " \n",
        "    // Initialize Matrix of grid points\n",
        "    for(unsigned int i = 0; i < M.height; i++)\n",
        "    {\n",
        "        for(unsigned int j=0;j < M.width; j++)\n",
        "        {\n",
        "            M.elements[i * M.width + j] = (WIDTH/2 - i)*(WIDTH/2 - i) + (WIDTH/2 - j)*(WIDTH/2 - j);\n",
        "        }\n",
        "    }\n",
        " \n",
        "\t  PrintMatrix(M.elements,M.width,M.height);\n",
        "  \tprintf(\"\\n\");\n",
        " \n",
        "    // X and Y vectors\n",
        "    Vector IdxI = AllocateVector(WIDTH);\n",
        "    Vector IdxJ = AllocateVector(WIDTH);\n",
        " \n",
        "    SerializeVector(IdxI, \"random_numbers.dat\");\n",
        "    SerializeMatrix(M, \"DistanceMatrix.dat\");\n",
        "\n",
        "    // Vector of measurements\n",
        "    Vector PiValues = AllocateVector(NMC);\n",
        "    \n",
        "\n",
        "    // Free matrices\n",
        "    FreeMatrix(M);\n",
        "    FreeVector(IdxI);\n",
        "    FreeVector(IdxJ);\n",
        "    FreeVector(PiValues);\n",
        "\n",
        "    return 0;\n",
        "}"
      ],
      "execution_count": null,
      "outputs": []
    },
    {
      "cell_type": "code",
      "metadata": {
        "id": "Q_pB1dCc1K7Z",
        "colab_type": "code",
        "colab": {}
      },
      "source": [
        "!ls"
      ],
      "execution_count": null,
      "outputs": []
    },
    {
      "cell_type": "code",
      "metadata": {
        "id": "gLgFNZID1Ljz",
        "colab_type": "code",
        "colab": {}
      },
      "source": [
        "!mkdir build"
      ],
      "execution_count": null,
      "outputs": []
    },
    {
      "cell_type": "code",
      "metadata": {
        "id": "s4iNpC6F1Peb",
        "colab_type": "code",
        "colab": {}
      },
      "source": [
        "!ls /usr/local/cuda"
      ],
      "execution_count": null,
      "outputs": []
    },
    {
      "cell_type": "code",
      "metadata": {
        "id": "824gt8J-1Pz0",
        "colab_type": "code",
        "colab": {}
      },
      "source": [
        "%cd build"
      ],
      "execution_count": null,
      "outputs": []
    },
    {
      "cell_type": "code",
      "metadata": {
        "id": "vKfu5xYR1TTk",
        "colab_type": "code",
        "colab": {}
      },
      "source": [
        "!git pull"
      ],
      "execution_count": null,
      "outputs": []
    },
    {
      "cell_type": "code",
      "metadata": {
        "id": "a04Jg0Y41rUM",
        "colab_type": "code",
        "colab": {}
      },
      "source": [
        "!cmake -D CUDA_TOOLKIT_ROOT_DIR=/usr/local/cuda .."
      ],
      "execution_count": null,
      "outputs": []
    },
    {
      "cell_type": "code",
      "metadata": {
        "id": "teD5CGWQ1u_m",
        "colab_type": "code",
        "colab": {}
      },
      "source": [
        "!make"
      ],
      "execution_count": null,
      "outputs": []
    },
    {
      "cell_type": "code",
      "metadata": {
        "id": "BOn1ksKdYdms",
        "colab_type": "code",
        "colab": {}
      },
      "source": [
        "!ls ../src ../lib ../build .."
      ],
      "execution_count": null,
      "outputs": []
    },
    {
      "cell_type": "code",
      "metadata": {
        "id": "Nod4StoqYmjb",
        "colab_type": "code",
        "colab": {}
      },
      "source": [
        "!./calcpigpu"
      ],
      "execution_count": null,
      "outputs": []
    },
    {
      "cell_type": "code",
      "metadata": {
        "id": "5gXSchzYZAI6",
        "colab_type": "code",
        "colab": {}
      },
      "source": [
        ""
      ],
      "execution_count": null,
      "outputs": []
    },
    {
      "cell_type": "markdown",
      "metadata": {
        "id": "KkVZJlQ5b2Jv",
        "colab_type": "text"
      },
      "source": [
        "# Work flow "
      ]
    },
    {
      "cell_type": "markdown",
      "metadata": {
        "id": "cx9frsATb5xp",
        "colab_type": "text"
      },
      "source": [
        "## 1. Commit on local repo and push"
      ]
    },
    {
      "cell_type": "markdown",
      "metadata": {
        "id": "4Y_9vBt6b-xn",
        "colab_type": "text"
      },
      "source": [
        "## 2. Pull on colab"
      ]
    },
    {
      "cell_type": "code",
      "metadata": {
        "id": "Fcts65QMb4dk",
        "colab_type": "code",
        "colab": {}
      },
      "source": [
        "!pwd"
      ],
      "execution_count": null,
      "outputs": []
    },
    {
      "cell_type": "code",
      "metadata": {
        "id": "VziCdW6KcCMU",
        "colab_type": "code",
        "colab": {}
      },
      "source": [
        "!git pull"
      ],
      "execution_count": null,
      "outputs": []
    },
    {
      "cell_type": "markdown",
      "metadata": {
        "id": "r5UbZIJxcGKo",
        "colab_type": "text"
      },
      "source": [
        "## 3. Compile"
      ]
    },
    {
      "cell_type": "code",
      "metadata": {
        "id": "xSfWwODOcD-a",
        "colab_type": "code",
        "colab": {}
      },
      "source": [
        "!make"
      ],
      "execution_count": null,
      "outputs": []
    },
    {
      "cell_type": "markdown",
      "metadata": {
        "id": "SQ4bQaKtcJvl",
        "colab_type": "text"
      },
      "source": [
        "## 4. Run"
      ]
    },
    {
      "cell_type": "code",
      "metadata": {
        "id": "BEJCe0BUcIOJ",
        "colab_type": "code",
        "colab": {}
      },
      "source": [
        "!./calcpigpu"
      ],
      "execution_count": null,
      "outputs": []
    },
    {
      "cell_type": "markdown",
      "metadata": {
        "id": "uz3n-uh4chGU",
        "colab_type": "text"
      },
      "source": [
        "## 4. Analyse with python"
      ]
    },
    {
      "cell_type": "code",
      "metadata": {
        "id": "fWM2bTRTcMeh",
        "colab_type": "code",
        "colab": {}
      },
      "source": [
        "import matplotlib.pyplot as plt\n",
        "import numpy\n",
        "\n",
        "data = numpy.loadtxt(\"../DistanceMatrix.dat\")\n",
        "size = data.shape\n",
        "dimM = int(numpy.sqrt(size[0]));\n",
        "dimN = int(size[0]/dimM)\n",
        "\n",
        "print(numpy.sqrt(size))\n",
        "# plt.plot(data)\n",
        "plt.imshow(data.reshape(dimM,dimN), cmap='hot', interpolation='nearest')\n",
        "plt.show()"
      ],
      "execution_count": null,
      "outputs": []
    },
    {
      "cell_type": "code",
      "metadata": {
        "id": "c5KfnLfgcp5v",
        "colab_type": "code",
        "colab": {}
      },
      "source": [
        ""
      ],
      "execution_count": null,
      "outputs": []
    }
  ]
}